{
 "cells": [
  {
   "cell_type": "code",
   "execution_count": 38,
   "metadata": {},
   "outputs": [],
   "source": [
    "import pandas as pd\n",
    "import numpy as np\n",
    "from sklearn.feature_extraction.text import TfidfVectorizer, CountVectorizer\n",
    "from sklearn.linear_model import PassiveAggressiveClassifier\n",
    "from sklearn.model_selection import train_test_split\n",
    "from sklearn.metrics import accuracy_score, confusion_matrix\n",
    "from sklearn.model_selection import cross_val_score\n",
    "from sklearn.ensemble import RandomForestClassifier\n",
    "from sklearn.base import BaseEstimator, ClassifierMixin\n",
    "from keras.preprocessing.text import text_to_word_sequence, Tokenizer\n",
    "from keras.models import Sequential, load_model\n",
    "from keras.layers import Embedding, LSTM, Dense, Conv1D, MaxPooling1D, SimpleRNN, Dropout, LSTM, Embedding, BatchNormalization\n",
    "from keras.callbacks import EarlyStopping, ModelCheckpoint\n",
    "from keras.preprocessing.sequence import pad_sequences\n",
    "from keras.constraints import maxnorm"
   ]
  },
  {
   "cell_type": "markdown",
   "metadata": {},
   "source": [
    "# Fake detection using Passive Agressive Classifier"
   ]
  },
  {
   "cell_type": "markdown",
   "metadata": {},
   "source": [
    "### Data preparation"
   ]
  },
  {
   "cell_type": "code",
   "execution_count": 2,
   "metadata": {},
   "outputs": [
    {
     "data": {
      "text/html": [
       "<div>\n",
       "<style scoped>\n",
       "    .dataframe tbody tr th:only-of-type {\n",
       "        vertical-align: middle;\n",
       "    }\n",
       "\n",
       "    .dataframe tbody tr th {\n",
       "        vertical-align: top;\n",
       "    }\n",
       "\n",
       "    .dataframe thead th {\n",
       "        text-align: right;\n",
       "    }\n",
       "</style>\n",
       "<table border=\"1\" class=\"dataframe\">\n",
       "  <thead>\n",
       "    <tr style=\"text-align: right;\">\n",
       "      <th></th>\n",
       "      <th>Unnamed: 0</th>\n",
       "      <th>title</th>\n",
       "      <th>text</th>\n",
       "      <th>label</th>\n",
       "    </tr>\n",
       "  </thead>\n",
       "  <tbody>\n",
       "    <tr>\n",
       "      <th>0</th>\n",
       "      <td>8476</td>\n",
       "      <td>You Can Smell Hillary’s Fear</td>\n",
       "      <td>Daniel Greenfield, a Shillman Journalism Fello...</td>\n",
       "      <td>FAKE</td>\n",
       "    </tr>\n",
       "    <tr>\n",
       "      <th>1</th>\n",
       "      <td>10294</td>\n",
       "      <td>Watch The Exact Moment Paul Ryan Committed Pol...</td>\n",
       "      <td>Google Pinterest Digg Linkedin Reddit Stumbleu...</td>\n",
       "      <td>FAKE</td>\n",
       "    </tr>\n",
       "    <tr>\n",
       "      <th>2</th>\n",
       "      <td>3608</td>\n",
       "      <td>Kerry to go to Paris in gesture of sympathy</td>\n",
       "      <td>U.S. Secretary of State John F. Kerry said Mon...</td>\n",
       "      <td>REAL</td>\n",
       "    </tr>\n",
       "    <tr>\n",
       "      <th>3</th>\n",
       "      <td>10142</td>\n",
       "      <td>Bernie supporters on Twitter erupt in anger ag...</td>\n",
       "      <td>— Kaydee King (@KaydeeKing) November 9, 2016 T...</td>\n",
       "      <td>FAKE</td>\n",
       "    </tr>\n",
       "    <tr>\n",
       "      <th>4</th>\n",
       "      <td>875</td>\n",
       "      <td>The Battle of New York: Why This Primary Matters</td>\n",
       "      <td>It's primary day in New York and front-runners...</td>\n",
       "      <td>REAL</td>\n",
       "    </tr>\n",
       "    <tr>\n",
       "      <th>5</th>\n",
       "      <td>6903</td>\n",
       "      <td>Tehran, USA</td>\n",
       "      <td>\\nI’m not an immigrant, but my grandparents ...</td>\n",
       "      <td>FAKE</td>\n",
       "    </tr>\n",
       "    <tr>\n",
       "      <th>6</th>\n",
       "      <td>7341</td>\n",
       "      <td>Girl Horrified At What She Watches Boyfriend D...</td>\n",
       "      <td>Share This Baylee Luciani (left), Screenshot o...</td>\n",
       "      <td>FAKE</td>\n",
       "    </tr>\n",
       "    <tr>\n",
       "      <th>7</th>\n",
       "      <td>95</td>\n",
       "      <td>‘Britain’s Schindler’ Dies at 106</td>\n",
       "      <td>A Czech stockbroker who saved more than 650 Je...</td>\n",
       "      <td>REAL</td>\n",
       "    </tr>\n",
       "    <tr>\n",
       "      <th>8</th>\n",
       "      <td>4869</td>\n",
       "      <td>Fact check: Trump and Clinton at the 'commande...</td>\n",
       "      <td>Hillary Clinton and Donald Trump made some ina...</td>\n",
       "      <td>REAL</td>\n",
       "    </tr>\n",
       "    <tr>\n",
       "      <th>9</th>\n",
       "      <td>2909</td>\n",
       "      <td>Iran reportedly makes new push for uranium con...</td>\n",
       "      <td>Iranian negotiators reportedly have made a las...</td>\n",
       "      <td>REAL</td>\n",
       "    </tr>\n",
       "  </tbody>\n",
       "</table>\n",
       "</div>"
      ],
      "text/plain": [
       "   Unnamed: 0                                              title  \\\n",
       "0        8476                       You Can Smell Hillary’s Fear   \n",
       "1       10294  Watch The Exact Moment Paul Ryan Committed Pol...   \n",
       "2        3608        Kerry to go to Paris in gesture of sympathy   \n",
       "3       10142  Bernie supporters on Twitter erupt in anger ag...   \n",
       "4         875   The Battle of New York: Why This Primary Matters   \n",
       "5        6903                                        Tehran, USA   \n",
       "6        7341  Girl Horrified At What She Watches Boyfriend D...   \n",
       "7          95                  ‘Britain’s Schindler’ Dies at 106   \n",
       "8        4869  Fact check: Trump and Clinton at the 'commande...   \n",
       "9        2909  Iran reportedly makes new push for uranium con...   \n",
       "\n",
       "                                                text label  \n",
       "0  Daniel Greenfield, a Shillman Journalism Fello...  FAKE  \n",
       "1  Google Pinterest Digg Linkedin Reddit Stumbleu...  FAKE  \n",
       "2  U.S. Secretary of State John F. Kerry said Mon...  REAL  \n",
       "3  — Kaydee King (@KaydeeKing) November 9, 2016 T...  FAKE  \n",
       "4  It's primary day in New York and front-runners...  REAL  \n",
       "5    \\nI’m not an immigrant, but my grandparents ...  FAKE  \n",
       "6  Share This Baylee Luciani (left), Screenshot o...  FAKE  \n",
       "7  A Czech stockbroker who saved more than 650 Je...  REAL  \n",
       "8  Hillary Clinton and Donald Trump made some ina...  REAL  \n",
       "9  Iranian negotiators reportedly have made a las...  REAL  "
      ]
     },
     "execution_count": 2,
     "metadata": {},
     "output_type": "execute_result"
    }
   ],
   "source": [
    "df = pd.read_csv(\"news.csv\", nrows = 3000)\n",
    "df.head(10)"
   ]
  },
  {
   "cell_type": "code",
   "execution_count": 3,
   "metadata": {},
   "outputs": [
    {
     "data": {
      "text/plain": [
       "1    1511\n",
       "0    1489\n",
       "Name: label, dtype: int64"
      ]
     },
     "execution_count": 3,
     "metadata": {},
     "output_type": "execute_result"
    }
   ],
   "source": [
    "conversion_dict = {'REAL': 0, 'FAKE': 1}\n",
    "df['label'] = df['label'].replace(conversion_dict)\n",
    "df.label.value_counts()"
   ]
  },
  {
   "cell_type": "code",
   "execution_count": 4,
   "metadata": {},
   "outputs": [
    {
     "data": {
      "text/html": [
       "<div>\n",
       "<style scoped>\n",
       "    .dataframe tbody tr th:only-of-type {\n",
       "        vertical-align: middle;\n",
       "    }\n",
       "\n",
       "    .dataframe tbody tr th {\n",
       "        vertical-align: top;\n",
       "    }\n",
       "\n",
       "    .dataframe thead th {\n",
       "        text-align: right;\n",
       "    }\n",
       "</style>\n",
       "<table border=\"1\" class=\"dataframe\">\n",
       "  <thead>\n",
       "    <tr style=\"text-align: right;\">\n",
       "      <th></th>\n",
       "      <th>Unnamed: 0</th>\n",
       "      <th>title</th>\n",
       "      <th>text</th>\n",
       "      <th>label</th>\n",
       "    </tr>\n",
       "  </thead>\n",
       "  <tbody>\n",
       "    <tr>\n",
       "      <th>0</th>\n",
       "      <td>8476</td>\n",
       "      <td>You Can Smell Hillary’s Fear</td>\n",
       "      <td>Daniel Greenfield, a Shillman Journalism Fello...</td>\n",
       "      <td>1</td>\n",
       "    </tr>\n",
       "    <tr>\n",
       "      <th>1</th>\n",
       "      <td>10294</td>\n",
       "      <td>Watch The Exact Moment Paul Ryan Committed Pol...</td>\n",
       "      <td>Google Pinterest Digg Linkedin Reddit Stumbleu...</td>\n",
       "      <td>1</td>\n",
       "    </tr>\n",
       "    <tr>\n",
       "      <th>2</th>\n",
       "      <td>3608</td>\n",
       "      <td>Kerry to go to Paris in gesture of sympathy</td>\n",
       "      <td>U.S. Secretary of State John F. Kerry said Mon...</td>\n",
       "      <td>0</td>\n",
       "    </tr>\n",
       "    <tr>\n",
       "      <th>3</th>\n",
       "      <td>10142</td>\n",
       "      <td>Bernie supporters on Twitter erupt in anger ag...</td>\n",
       "      <td>— Kaydee King (@KaydeeKing) November 9, 2016 T...</td>\n",
       "      <td>1</td>\n",
       "    </tr>\n",
       "    <tr>\n",
       "      <th>4</th>\n",
       "      <td>875</td>\n",
       "      <td>The Battle of New York: Why This Primary Matters</td>\n",
       "      <td>It's primary day in New York and front-runners...</td>\n",
       "      <td>0</td>\n",
       "    </tr>\n",
       "    <tr>\n",
       "      <th>5</th>\n",
       "      <td>6903</td>\n",
       "      <td>Tehran, USA</td>\n",
       "      <td>\\nI’m not an immigrant, but my grandparents ...</td>\n",
       "      <td>1</td>\n",
       "    </tr>\n",
       "    <tr>\n",
       "      <th>6</th>\n",
       "      <td>7341</td>\n",
       "      <td>Girl Horrified At What She Watches Boyfriend D...</td>\n",
       "      <td>Share This Baylee Luciani (left), Screenshot o...</td>\n",
       "      <td>1</td>\n",
       "    </tr>\n",
       "    <tr>\n",
       "      <th>7</th>\n",
       "      <td>95</td>\n",
       "      <td>‘Britain’s Schindler’ Dies at 106</td>\n",
       "      <td>A Czech stockbroker who saved more than 650 Je...</td>\n",
       "      <td>0</td>\n",
       "    </tr>\n",
       "    <tr>\n",
       "      <th>8</th>\n",
       "      <td>4869</td>\n",
       "      <td>Fact check: Trump and Clinton at the 'commande...</td>\n",
       "      <td>Hillary Clinton and Donald Trump made some ina...</td>\n",
       "      <td>0</td>\n",
       "    </tr>\n",
       "    <tr>\n",
       "      <th>9</th>\n",
       "      <td>2909</td>\n",
       "      <td>Iran reportedly makes new push for uranium con...</td>\n",
       "      <td>Iranian negotiators reportedly have made a las...</td>\n",
       "      <td>0</td>\n",
       "    </tr>\n",
       "  </tbody>\n",
       "</table>\n",
       "</div>"
      ],
      "text/plain": [
       "   Unnamed: 0                                              title  \\\n",
       "0        8476                       You Can Smell Hillary’s Fear   \n",
       "1       10294  Watch The Exact Moment Paul Ryan Committed Pol...   \n",
       "2        3608        Kerry to go to Paris in gesture of sympathy   \n",
       "3       10142  Bernie supporters on Twitter erupt in anger ag...   \n",
       "4         875   The Battle of New York: Why This Primary Matters   \n",
       "5        6903                                        Tehran, USA   \n",
       "6        7341  Girl Horrified At What She Watches Boyfriend D...   \n",
       "7          95                  ‘Britain’s Schindler’ Dies at 106   \n",
       "8        4869  Fact check: Trump and Clinton at the 'commande...   \n",
       "9        2909  Iran reportedly makes new push for uranium con...   \n",
       "\n",
       "                                                text  label  \n",
       "0  Daniel Greenfield, a Shillman Journalism Fello...      1  \n",
       "1  Google Pinterest Digg Linkedin Reddit Stumbleu...      1  \n",
       "2  U.S. Secretary of State John F. Kerry said Mon...      0  \n",
       "3  — Kaydee King (@KaydeeKing) November 9, 2016 T...      1  \n",
       "4  It's primary day in New York and front-runners...      0  \n",
       "5    \\nI’m not an immigrant, but my grandparents ...      1  \n",
       "6  Share This Baylee Luciani (left), Screenshot o...      1  \n",
       "7  A Czech stockbroker who saved more than 650 Je...      0  \n",
       "8  Hillary Clinton and Donald Trump made some ina...      0  \n",
       "9  Iranian negotiators reportedly have made a las...      0  "
      ]
     },
     "execution_count": 4,
     "metadata": {},
     "output_type": "execute_result"
    }
   ],
   "source": [
    "df.head(10)"
   ]
  },
  {
   "cell_type": "markdown",
   "metadata": {},
   "source": [
    "### Words vectorize and model build"
   ]
  },
  {
   "cell_type": "code",
   "execution_count": 5,
   "metadata": {},
   "outputs": [],
   "source": [
    "x_train_first,x_test_first,y_train_first,y_test_first=train_test_split(df['text'], df['label'], test_size=0.25, random_state=7, shuffle=True)\n",
    "tfidf_vectorizer=TfidfVectorizer(stop_words='english', max_df=0.75 )"
   ]
  },
  {
   "cell_type": "code",
   "execution_count": 6,
   "metadata": {},
   "outputs": [
    {
     "data": {
      "text/plain": [
       "PassiveAggressiveClassifier(max_iter=50)"
      ]
     },
     "execution_count": 6,
     "metadata": {},
     "output_type": "execute_result"
    }
   ],
   "source": [
    "first_vec_train=tfidf_vectorizer.fit_transform(x_train_first.values.astype('U'))\n",
    "first_vec_test=tfidf_vectorizer.transform(x_test_first.values.astype('U'))\n",
    "pac=PassiveAggressiveClassifier(max_iter=50)\n",
    "pac.fit(first_vec_train,y_train_first)"
   ]
  },
  {
   "cell_type": "markdown",
   "metadata": {},
   "source": [
    "### Results"
   ]
  },
  {
   "cell_type": "code",
   "execution_count": 7,
   "metadata": {},
   "outputs": [
    {
     "name": "stdout",
     "output_type": "stream",
     "text": [
      "Accuracy: 93.07%\n"
     ]
    }
   ],
   "source": [
    "y_pred=pac.predict(first_vec_test)\n",
    "score=accuracy_score(y_test_first,y_pred)\n",
    "print(f'Accuracy: {round(score*100,2)}%')"
   ]
  },
  {
   "cell_type": "code",
   "execution_count": 8,
   "metadata": {},
   "outputs": [
    {
     "data": {
      "text/plain": [
       "array([[334,  26],\n",
       "       [ 26, 364]])"
      ]
     },
     "execution_count": 8,
     "metadata": {},
     "output_type": "execute_result"
    }
   ],
   "source": [
    "confusion_matrix(y_test_first,y_pred)"
   ]
  },
  {
   "cell_type": "code",
   "execution_count": 9,
   "metadata": {},
   "outputs": [
    {
     "name": "stdout",
     "output_type": "stream",
     "text": [
      "Accuracy: 92.63%\n"
     ]
    }
   ],
   "source": [
    "X=tfidf_vectorizer.transform(df['text'].values.astype('U'))\n",
    "scores = cross_val_score(pac, X, df['label'].values, cv=5)\n",
    "print(f'Accuracy: {round(scores.mean()*100,2)}%')"
   ]
  },
  {
   "cell_type": "markdown",
   "metadata": {},
   "source": [
    "### Trying another dataset"
   ]
  },
  {
   "cell_type": "code",
   "execution_count": 10,
   "metadata": {},
   "outputs": [],
   "source": [
    "df_true=pd.read_csv('True.csv', nrows=2500)\n",
    "df_true['label']= 0\n",
    "df_true_rep=[df_true['text'][i].replace('WASHINGTON (Reuters) - ','').replace('LONDON (Reuters) - ','').replace('(Reuters) - ','') for i in range(len(df_true['text']))]\n",
    "df_true['text']=df_true_rep\n",
    "df_fake = pd.read_csv(\"Fake.csv\" ,nrows=2500)\n",
    "df_fake['label']= 1\n",
    "df_final=pd.concat([df_true,df_fake])\n",
    "df_final=df_final.drop(['subject','date'], axis=1)"
   ]
  },
  {
   "cell_type": "code",
   "execution_count": 11,
   "metadata": {},
   "outputs": [
    {
     "data": {
      "text/html": [
       "<div>\n",
       "<style scoped>\n",
       "    .dataframe tbody tr th:only-of-type {\n",
       "        vertical-align: middle;\n",
       "    }\n",
       "\n",
       "    .dataframe tbody tr th {\n",
       "        vertical-align: top;\n",
       "    }\n",
       "\n",
       "    .dataframe thead th {\n",
       "        text-align: right;\n",
       "    }\n",
       "</style>\n",
       "<table border=\"1\" class=\"dataframe\">\n",
       "  <thead>\n",
       "    <tr style=\"text-align: right;\">\n",
       "      <th></th>\n",
       "      <th>title</th>\n",
       "      <th>text</th>\n",
       "      <th>label</th>\n",
       "    </tr>\n",
       "  </thead>\n",
       "  <tbody>\n",
       "    <tr>\n",
       "      <th>0</th>\n",
       "      <td>As U.S. budget fight looms, Republicans flip t...</td>\n",
       "      <td>The head of a conservative Republican faction ...</td>\n",
       "      <td>0</td>\n",
       "    </tr>\n",
       "    <tr>\n",
       "      <th>1</th>\n",
       "      <td>U.S. military to accept transgender recruits o...</td>\n",
       "      <td>Transgender people will be allowed for the fir...</td>\n",
       "      <td>0</td>\n",
       "    </tr>\n",
       "    <tr>\n",
       "      <th>2</th>\n",
       "      <td>Senior U.S. Republican senator: 'Let Mr. Muell...</td>\n",
       "      <td>The special counsel investigation of links bet...</td>\n",
       "      <td>0</td>\n",
       "    </tr>\n",
       "    <tr>\n",
       "      <th>3</th>\n",
       "      <td>FBI Russia probe helped by Australian diplomat...</td>\n",
       "      <td>Trump campaign adviser George Papadopoulos tol...</td>\n",
       "      <td>0</td>\n",
       "    </tr>\n",
       "    <tr>\n",
       "      <th>4</th>\n",
       "      <td>Trump wants Postal Service to charge 'much mor...</td>\n",
       "      <td>SEATTLE/President Donald Trump called on the U...</td>\n",
       "      <td>0</td>\n",
       "    </tr>\n",
       "    <tr>\n",
       "      <th>5</th>\n",
       "      <td>White House, Congress prepare for talks on spe...</td>\n",
       "      <td>WEST PALM BEACH, Fla./The White House said on ...</td>\n",
       "      <td>0</td>\n",
       "    </tr>\n",
       "    <tr>\n",
       "      <th>6</th>\n",
       "      <td>Trump says Russia probe will be fair, but time...</td>\n",
       "      <td>WEST PALM BEACH, Fla President Donald Trump sa...</td>\n",
       "      <td>0</td>\n",
       "    </tr>\n",
       "    <tr>\n",
       "      <th>7</th>\n",
       "      <td>Factbox: Trump on Twitter (Dec 29) - Approval ...</td>\n",
       "      <td>The following statements were posted to the ve...</td>\n",
       "      <td>0</td>\n",
       "    </tr>\n",
       "    <tr>\n",
       "      <th>8</th>\n",
       "      <td>Trump on Twitter (Dec 28) - Global Warming</td>\n",
       "      <td>The following statements were posted to the ve...</td>\n",
       "      <td>0</td>\n",
       "    </tr>\n",
       "    <tr>\n",
       "      <th>9</th>\n",
       "      <td>Alabama official to certify Senator-elect Jone...</td>\n",
       "      <td>Alabama Secretary of State John Merrill said h...</td>\n",
       "      <td>0</td>\n",
       "    </tr>\n",
       "  </tbody>\n",
       "</table>\n",
       "</div>"
      ],
      "text/plain": [
       "                                               title  \\\n",
       "0  As U.S. budget fight looms, Republicans flip t...   \n",
       "1  U.S. military to accept transgender recruits o...   \n",
       "2  Senior U.S. Republican senator: 'Let Mr. Muell...   \n",
       "3  FBI Russia probe helped by Australian diplomat...   \n",
       "4  Trump wants Postal Service to charge 'much mor...   \n",
       "5  White House, Congress prepare for talks on spe...   \n",
       "6  Trump says Russia probe will be fair, but time...   \n",
       "7  Factbox: Trump on Twitter (Dec 29) - Approval ...   \n",
       "8         Trump on Twitter (Dec 28) - Global Warming   \n",
       "9  Alabama official to certify Senator-elect Jone...   \n",
       "\n",
       "                                                text  label  \n",
       "0  The head of a conservative Republican faction ...      0  \n",
       "1  Transgender people will be allowed for the fir...      0  \n",
       "2  The special counsel investigation of links bet...      0  \n",
       "3  Trump campaign adviser George Papadopoulos tol...      0  \n",
       "4  SEATTLE/President Donald Trump called on the U...      0  \n",
       "5  WEST PALM BEACH, Fla./The White House said on ...      0  \n",
       "6  WEST PALM BEACH, Fla President Donald Trump sa...      0  \n",
       "7  The following statements were posted to the ve...      0  \n",
       "8  The following statements were posted to the ve...      0  \n",
       "9  Alabama Secretary of State John Merrill said h...      0  "
      ]
     },
     "execution_count": 11,
     "metadata": {},
     "output_type": "execute_result"
    }
   ],
   "source": [
    "df_final.head(10)"
   ]
  },
  {
   "cell_type": "code",
   "execution_count": 12,
   "metadata": {},
   "outputs": [
    {
     "data": {
      "text/html": [
       "<div>\n",
       "<style scoped>\n",
       "    .dataframe tbody tr th:only-of-type {\n",
       "        vertical-align: middle;\n",
       "    }\n",
       "\n",
       "    .dataframe tbody tr th {\n",
       "        vertical-align: top;\n",
       "    }\n",
       "\n",
       "    .dataframe thead th {\n",
       "        text-align: right;\n",
       "    }\n",
       "</style>\n",
       "<table border=\"1\" class=\"dataframe\">\n",
       "  <thead>\n",
       "    <tr style=\"text-align: right;\">\n",
       "      <th></th>\n",
       "      <th>title</th>\n",
       "      <th>text</th>\n",
       "      <th>label</th>\n",
       "    </tr>\n",
       "  </thead>\n",
       "  <tbody>\n",
       "    <tr>\n",
       "      <th>2490</th>\n",
       "      <td>REPORT: Even Republicans Are ‘Disturbed’ By T...</td>\n",
       "      <td>Donald Trump s days in the White House could b...</td>\n",
       "      <td>1</td>\n",
       "    </tr>\n",
       "    <tr>\n",
       "      <th>2491</th>\n",
       "      <td>Eric Trump Just Asked The Labor Department To...</td>\n",
       "      <td>If any other American company did this, Donald...</td>\n",
       "      <td>1</td>\n",
       "    </tr>\n",
       "    <tr>\n",
       "      <th>2492</th>\n",
       "      <td>REPORT: Trump Considering Using National Guar...</td>\n",
       "      <td>Donald Trump reportedly wants to use the Natio...</td>\n",
       "      <td>1</td>\n",
       "    </tr>\n",
       "    <tr>\n",
       "      <th>2493</th>\n",
       "      <td>WATCH: Trump Assumes Black Reporter Can Set U...</td>\n",
       "      <td>After claiming that he s  the least racist per...</td>\n",
       "      <td>1</td>\n",
       "    </tr>\n",
       "    <tr>\n",
       "      <th>2494</th>\n",
       "      <td>Trump Thinks Rush Limbaugh Is Real News And T...</td>\n",
       "      <td>Rush Limbaugh praised Donald Trump s insanely ...</td>\n",
       "      <td>1</td>\n",
       "    </tr>\n",
       "    <tr>\n",
       "      <th>2495</th>\n",
       "      <td>WATCH: Fox News Host DEFENDS CNN Reporter, Te...</td>\n",
       "      <td>Even Fox News is calling Donald Trump out for ...</td>\n",
       "      <td>1</td>\n",
       "    </tr>\n",
       "    <tr>\n",
       "      <th>2496</th>\n",
       "      <td>GOP Senator DESPERATELY Worried About Trump’s...</td>\n",
       "      <td>On Thursday afternoon, the world was treated t...</td>\n",
       "      <td>1</td>\n",
       "    </tr>\n",
       "    <tr>\n",
       "      <th>2497</th>\n",
       "      <td>WATCH: NBC Reporter Calls Trump Out For Lying...</td>\n",
       "      <td>Donald Trump finally held his first solo press...</td>\n",
       "      <td>1</td>\n",
       "    </tr>\n",
       "    <tr>\n",
       "      <th>2498</th>\n",
       "      <td>Tapper SLAMS Trump For BIZARRE Behavior At ‘W...</td>\n",
       "      <td>There is certainly no love lost between CNN an...</td>\n",
       "      <td>1</td>\n",
       "    </tr>\n",
       "    <tr>\n",
       "      <th>2499</th>\n",
       "      <td>LOL: Putin Is Angry Now Because Trump Gets Mo...</td>\n",
       "      <td>Vladimir Putin is super pissed because Russian...</td>\n",
       "      <td>1</td>\n",
       "    </tr>\n",
       "  </tbody>\n",
       "</table>\n",
       "</div>"
      ],
      "text/plain": [
       "                                                  title  \\\n",
       "2490   REPORT: Even Republicans Are ‘Disturbed’ By T...   \n",
       "2491   Eric Trump Just Asked The Labor Department To...   \n",
       "2492   REPORT: Trump Considering Using National Guar...   \n",
       "2493   WATCH: Trump Assumes Black Reporter Can Set U...   \n",
       "2494   Trump Thinks Rush Limbaugh Is Real News And T...   \n",
       "2495   WATCH: Fox News Host DEFENDS CNN Reporter, Te...   \n",
       "2496   GOP Senator DESPERATELY Worried About Trump’s...   \n",
       "2497   WATCH: NBC Reporter Calls Trump Out For Lying...   \n",
       "2498   Tapper SLAMS Trump For BIZARRE Behavior At ‘W...   \n",
       "2499   LOL: Putin Is Angry Now Because Trump Gets Mo...   \n",
       "\n",
       "                                                   text  label  \n",
       "2490  Donald Trump s days in the White House could b...      1  \n",
       "2491  If any other American company did this, Donald...      1  \n",
       "2492  Donald Trump reportedly wants to use the Natio...      1  \n",
       "2493  After claiming that he s  the least racist per...      1  \n",
       "2494  Rush Limbaugh praised Donald Trump s insanely ...      1  \n",
       "2495  Even Fox News is calling Donald Trump out for ...      1  \n",
       "2496  On Thursday afternoon, the world was treated t...      1  \n",
       "2497  Donald Trump finally held his first solo press...      1  \n",
       "2498  There is certainly no love lost between CNN an...      1  \n",
       "2499  Vladimir Putin is super pissed because Russian...      1  "
      ]
     },
     "execution_count": 12,
     "metadata": {},
     "output_type": "execute_result"
    }
   ],
   "source": [
    "df_final.tail(10)"
   ]
  },
  {
   "cell_type": "markdown",
   "metadata": {},
   "source": [
    "### Model build and words vecrorize"
   ]
  },
  {
   "cell_type": "code",
   "execution_count": 13,
   "metadata": {},
   "outputs": [],
   "source": [
    "x_train_second,x_test_second,y_train_second,y_test_second=train_test_split(df_final['text'], df_final['label'], test_size=0.25)\n",
    "tfidf_vectorizer=TfidfVectorizer(stop_words='english', max_df=0.75 )"
   ]
  },
  {
   "cell_type": "code",
   "execution_count": 14,
   "metadata": {},
   "outputs": [
    {
     "data": {
      "text/plain": [
       "PassiveAggressiveClassifier(max_iter=50)"
      ]
     },
     "execution_count": 14,
     "metadata": {},
     "output_type": "execute_result"
    }
   ],
   "source": [
    "second_vec_train=tfidf_vectorizer.fit_transform(x_train_second.values.astype('U')) \n",
    "second_vec_test=tfidf_vectorizer.transform(x_test_second.values.astype('U'))\n",
    "pac=PassiveAggressiveClassifier(max_iter=50)\n",
    "pac.fit(second_vec_train, y_train_second)"
   ]
  },
  {
   "cell_type": "markdown",
   "metadata": {},
   "source": [
    "### Results"
   ]
  },
  {
   "cell_type": "code",
   "execution_count": 15,
   "metadata": {},
   "outputs": [
    {
     "name": "stdout",
     "output_type": "stream",
     "text": [
      "Accuracy: 99.2%\n"
     ]
    }
   ],
   "source": [
    "y_pred=pac.predict(second_vec_test)\n",
    "score=accuracy_score(y_test_second,y_pred)\n",
    "print(f'Accuracy: {round(score*100,2)}%')"
   ]
  },
  {
   "cell_type": "code",
   "execution_count": 16,
   "metadata": {},
   "outputs": [
    {
     "data": {
      "text/plain": [
       "array([[622,   5],\n",
       "       [  5, 618]])"
      ]
     },
     "execution_count": 16,
     "metadata": {},
     "output_type": "execute_result"
    }
   ],
   "source": [
    "confusion_matrix(y_test_second,y_pred)"
   ]
  },
  {
   "cell_type": "code",
   "execution_count": 17,
   "metadata": {},
   "outputs": [
    {
     "name": "stdout",
     "output_type": "stream",
     "text": [
      "Accuracy: 91.8%\n"
     ]
    }
   ],
   "source": [
    "X=tfidf_vectorizer.transform(df['text'].values.astype('U'))\n",
    "scores = cross_val_score(pac, X, df['label'].values, cv=5)\n",
    "print(f'Accuracy: {round(scores.mean()*100,2)}%')"
   ]
  },
  {
   "cell_type": "markdown",
   "metadata": {},
   "source": [
    "### Try other method(Random Forest Classfier)"
   ]
  },
  {
   "cell_type": "code",
   "execution_count": 18,
   "metadata": {},
   "outputs": [
    {
     "data": {
      "text/plain": [
       "RandomForestClassifier(random_state=0)"
      ]
     },
     "execution_count": 18,
     "metadata": {},
     "output_type": "execute_result"
    }
   ],
   "source": [
    "RFC = RandomForestClassifier(random_state=0)\n",
    "RFC.fit(first_vec_train, y_train_first)"
   ]
  },
  {
   "cell_type": "code",
   "execution_count": 19,
   "metadata": {},
   "outputs": [
    {
     "name": "stdout",
     "output_type": "stream",
     "text": [
      "Accuracy: 89.87%\n"
     ]
    }
   ],
   "source": [
    "y_pred=RFC.predict(first_vec_test)\n",
    "score=accuracy_score(y_test_first,y_pred)\n",
    "print(f'Accuracy: {round(score*100,2)}%')"
   ]
  },
  {
   "cell_type": "code",
   "execution_count": 20,
   "metadata": {},
   "outputs": [
    {
     "data": {
      "text/plain": [
       "array([[335,  25],\n",
       "       [ 51, 339]])"
      ]
     },
     "execution_count": 20,
     "metadata": {},
     "output_type": "execute_result"
    }
   ],
   "source": [
    "confusion_matrix(y_test_first,y_pred)"
   ]
  },
  {
   "cell_type": "code",
   "execution_count": 21,
   "metadata": {},
   "outputs": [
    {
     "name": "stdout",
     "output_type": "stream",
     "text": [
      "Accuracy: 88.53%\n"
     ]
    }
   ],
   "source": [
    "X=tfidf_vectorizer.transform(df['text'].values.astype('U'))\n",
    "scores = cross_val_score(RFC, X, df['label'].values, cv=5)\n",
    "print(f'Accuracy: {round(scores.mean()*100,2)}%')"
   ]
  },
  {
   "cell_type": "markdown",
   "metadata": {},
   "source": [
    "### Second dataset"
   ]
  },
  {
   "cell_type": "code",
   "execution_count": 22,
   "metadata": {},
   "outputs": [
    {
     "data": {
      "text/plain": [
       "RandomForestClassifier(random_state=0)"
      ]
     },
     "execution_count": 22,
     "metadata": {},
     "output_type": "execute_result"
    }
   ],
   "source": [
    "RFC = RandomForestClassifier(random_state=0)\n",
    "RFC.fit(second_vec_train, y_train_second)"
   ]
  },
  {
   "cell_type": "code",
   "execution_count": 23,
   "metadata": {},
   "outputs": [
    {
     "name": "stdout",
     "output_type": "stream",
     "text": [
      "Accuracy: 99.2%\n"
     ]
    }
   ],
   "source": [
    "y_pred=RFC.predict(second_vec_test)\n",
    "score=accuracy_score(y_test_second,y_pred)\n",
    "print(f'Accuracy: {round(score*100,2)}%')"
   ]
  },
  {
   "cell_type": "code",
   "execution_count": 24,
   "metadata": {},
   "outputs": [
    {
     "data": {
      "text/plain": [
       "array([[621,   6],\n",
       "       [  4, 619]])"
      ]
     },
     "execution_count": 24,
     "metadata": {},
     "output_type": "execute_result"
    }
   ],
   "source": [
    "confusion_matrix(y_test_second,y_pred)"
   ]
  },
  {
   "cell_type": "code",
   "execution_count": 25,
   "metadata": {},
   "outputs": [
    {
     "name": "stdout",
     "output_type": "stream",
     "text": [
      "Accuracy: 88.53%\n"
     ]
    }
   ],
   "source": [
    "X=tfidf_vectorizer.transform(df['text'].values.astype('U'))\n",
    "scores = cross_val_score(RFC, X, df['label'].values, cv=5)\n",
    "print(f'Accuracy: {round(scores.mean()*100,2)}%')"
   ]
  },
  {
   "cell_type": "markdown",
   "metadata": {},
   "source": [
    "# Neural Networks"
   ]
  },
  {
   "cell_type": "markdown",
   "metadata": {},
   "source": [
    "## Data preparation"
   ]
  },
  {
   "cell_type": "code",
   "execution_count": 26,
   "metadata": {},
   "outputs": [],
   "source": [
    "df_train = df.sample(frac=.8, random_state=11)\n",
    "df_test = df.drop(df_train.index)"
   ]
  },
  {
   "cell_type": "code",
   "execution_count": 27,
   "metadata": {},
   "outputs": [],
   "source": [
    "y_train = df_train['label'].values\n",
    "y_test = df_test['label'].values"
   ]
  },
  {
   "cell_type": "code",
   "execution_count": 28,
   "metadata": {},
   "outputs": [],
   "source": [
    "X_train = df_train['text'].values\n",
    "X_test = df_test['text'].values"
   ]
  },
  {
   "cell_type": "code",
   "execution_count": 29,
   "metadata": {},
   "outputs": [
    {
     "name": "stdout",
     "output_type": "stream",
     "text": [
      "58498\n"
     ]
    }
   ],
   "source": [
    "tokenizer = Tokenizer()\n",
    "tokenizer.fit_on_texts(X_train)\n",
    "word_dict = tokenizer.index_word\n",
    "print(len(word_dict))"
   ]
  },
  {
   "cell_type": "code",
   "execution_count": 30,
   "metadata": {},
   "outputs": [],
   "source": [
    "X_train_seq = tokenizer.texts_to_sequences(X_train)\n",
    "X_test_seq = tokenizer.texts_to_sequences(X_test)"
   ]
  },
  {
   "cell_type": "code",
   "execution_count": 114,
   "metadata": {},
   "outputs": [],
   "source": [
    "X_train_pad = pad_sequences(X_train_seq, maxlen=512, padding='post')\n",
    "X_test_pad = pad_sequences(X_test_seq, maxlen=512, padding='post')"
   ]
  },
  {
   "cell_type": "code",
   "execution_count": 119,
   "metadata": {},
   "outputs": [],
   "source": [
    "laenge_pads = 512\n",
    "vocab_size = len(word_dict)\n",
    "output_dim=64"
   ]
  },
  {
   "cell_type": "markdown",
   "metadata": {},
   "source": [
    "## Simple LSTM"
   ]
  },
  {
   "cell_type": "code",
   "execution_count": 129,
   "metadata": {},
   "outputs": [
    {
     "name": "stdout",
     "output_type": "stream",
     "text": [
      "Model: \"sequential_37\"\n",
      "_________________________________________________________________\n",
      "Layer (type)                 Output Shape              Param #   \n",
      "=================================================================\n",
      "embedding_37 (Embedding)     (None, 512, 64)           3743936   \n",
      "_________________________________________________________________\n",
      "dropout_70 (Dropout)         (None, 512, 64)           0         \n",
      "_________________________________________________________________\n",
      "lstm_27 (LSTM)               (None, 128)               98816     \n",
      "_________________________________________________________________\n",
      "dropout_71 (Dropout)         (None, 128)               0         \n",
      "_________________________________________________________________\n",
      "dropout_72 (Dropout)         (None, 128)               0         \n",
      "_________________________________________________________________\n",
      "dense_33 (Dense)             (None, 1)                 129       \n",
      "=================================================================\n",
      "Total params: 3,842,881\n",
      "Trainable params: 3,842,881\n",
      "Non-trainable params: 0\n",
      "_________________________________________________________________\n"
     ]
    }
   ],
   "source": [
    "lstm_model = Sequential()\n",
    "lstm_model.add(Embedding(input_dim=anz_woerter+1, output_dim=output_dim, input_length=laenge_pads))\n",
    "lstm_model.add(Dropout(0.1))\n",
    "lstm_model.add(LSTM(128))\n",
    "lstm_model.add(Dropout(0.1))\n",
    "lstm_model.add(Dropout(0.1))\n",
    "lstm_model.add(Dense(1, activation='sigmoid'))\n",
    "\n",
    "lstm_model.compile(loss='binary_crossentropy', optimizer='adam', metrics=['accuracy'])\n",
    "lstm_model.summary()"
   ]
  },
  {
   "cell_type": "code",
   "execution_count": 130,
   "metadata": {},
   "outputs": [
    {
     "name": "stdout",
     "output_type": "stream",
     "text": [
      "Epoch 1/10\n",
      "38/38 [==============================] - 22s 581ms/step - loss: 0.6550 - accuracy: 0.6254 - val_loss: 0.6272 - val_accuracy: 0.6400\n",
      "Epoch 2/10\n",
      "38/38 [==============================] - 22s 585ms/step - loss: 0.5937 - accuracy: 0.7325 - val_loss: 0.5948 - val_accuracy: 0.7233\n",
      "Epoch 3/10\n",
      "38/38 [==============================] - 22s 589ms/step - loss: 0.4819 - accuracy: 0.7912 - val_loss: 0.5179 - val_accuracy: 0.7433\n",
      "Epoch 4/10\n",
      "38/38 [==============================] - 22s 590ms/step - loss: 0.3689 - accuracy: 0.8413 - val_loss: 0.5250 - val_accuracy: 0.7333\n",
      "Epoch 5/10\n",
      "38/38 [==============================] - 23s 597ms/step - loss: 0.3111 - accuracy: 0.8562 - val_loss: 0.4981 - val_accuracy: 0.7800\n",
      "Epoch 6/10\n",
      "38/38 [==============================] - 23s 599ms/step - loss: 0.2991 - accuracy: 0.8721 - val_loss: 0.5345 - val_accuracy: 0.7367\n",
      "Epoch 7/10\n",
      "38/38 [==============================] - 23s 599ms/step - loss: 0.2790 - accuracy: 0.8621 - val_loss: 0.5506 - val_accuracy: 0.7800\n",
      "Epoch 8/10\n",
      "38/38 [==============================] - 23s 602ms/step - loss: 0.3958 - accuracy: 0.8413 - val_loss: 0.5174 - val_accuracy: 0.7533\n",
      "Epoch 9/10\n",
      "38/38 [==============================] - 23s 600ms/step - loss: 0.3141 - accuracy: 0.8483 - val_loss: 0.5591 - val_accuracy: 0.7533\n",
      "Epoch 10/10\n",
      "38/38 [==============================] - 23s 601ms/step - loss: 0.2721 - accuracy: 0.8679 - val_loss: 0.4209 - val_accuracy: 0.8133\n"
     ]
    }
   ],
   "source": [
    "history = lstm_model.fit(X_train_pad, y_train, epochs=10, batch_size=64, \n",
    "                        validation_data=(X_test_pad, y_test))"
   ]
  },
  {
   "cell_type": "code",
   "execution_count": 131,
   "metadata": {},
   "outputs": [
    {
     "name": "stdout",
     "output_type": "stream",
     "text": [
      "PAC Accuracy: 81.33%\n"
     ]
    }
   ],
   "source": [
    "pred_y = lstm_model.predict_classes(X_test_pad)\n",
    "score=accuracy_score(y_test,pred_y)\n",
    "print(f'PAC Accuracy: {round(score*100,2)}%')"
   ]
  },
  {
   "cell_type": "code",
   "execution_count": 132,
   "metadata": {},
   "outputs": [
    {
     "data": {
      "text/plain": [
       "array([[279,  20],\n",
       "       [ 92, 209]])"
      ]
     },
     "execution_count": 132,
     "metadata": {},
     "output_type": "execute_result"
    }
   ],
   "source": [
    "confusion_matrix(y_test,pred_y)"
   ]
  },
  {
   "cell_type": "markdown",
   "metadata": {},
   "source": [
    "## Simple RNN"
   ]
  },
  {
   "cell_type": "code",
   "execution_count": 133,
   "metadata": {},
   "outputs": [
    {
     "name": "stdout",
     "output_type": "stream",
     "text": [
      "Model: \"sequential_38\"\n",
      "_________________________________________________________________\n",
      "Layer (type)                 Output Shape              Param #   \n",
      "=================================================================\n",
      "embedding_38 (Embedding)     (None, 512, 64)           3743936   \n",
      "_________________________________________________________________\n",
      "simple_rnn_28 (SimpleRNN)    (None, 512, 64)           8256      \n",
      "_________________________________________________________________\n",
      "dropout_73 (Dropout)         (None, 512, 64)           0         \n",
      "_________________________________________________________________\n",
      "simple_rnn_29 (SimpleRNN)    (None, 512, 64)           8256      \n",
      "_________________________________________________________________\n",
      "dropout_74 (Dropout)         (None, 512, 64)           0         \n",
      "_________________________________________________________________\n",
      "simple_rnn_30 (SimpleRNN)    (None, 64)                8256      \n",
      "_________________________________________________________________\n",
      "dropout_75 (Dropout)         (None, 64)                0         \n",
      "_________________________________________________________________\n",
      "dense_34 (Dense)             (None, 1)                 65        \n",
      "=================================================================\n",
      "Total params: 3,768,769\n",
      "Trainable params: 3,768,769\n",
      "Non-trainable params: 0\n",
      "_________________________________________________________________\n"
     ]
    }
   ],
   "source": [
    "rnn_model = Sequential()\n",
    "rnn_model.add(Embedding(input_dim = vocab_size + 1, output_dim = output_dim, input_length = laenge_pads))\n",
    "rnn_model.add(SimpleRNN(output_dim, return_sequences=True, kernel_constraint=maxnorm(50)))\n",
    "rnn_model.add(Dropout(0.1))\n",
    "rnn_model.add(SimpleRNN(output_dim, return_sequences=True, kernel_constraint=maxnorm(50)))\n",
    "rnn_model.add(Dropout(0.1))\n",
    "rnn_model.add(SimpleRNN(output_dim))\n",
    "rnn_model.add(Dropout(0.1))\n",
    "rnn_model.add(Dense(1,activation='sigmoid'))\n",
    "rnn_model.compile(optimizer='sgd', loss='mse',  metrics=['accuracy'])\n",
    "rnn_model.summary()"
   ]
  },
  {
   "cell_type": "code",
   "execution_count": 134,
   "metadata": {},
   "outputs": [
    {
     "name": "stdout",
     "output_type": "stream",
     "text": [
      "Epoch 1/10\n",
      "38/38 [==============================] - 15s 401ms/step - loss: 0.2473 - accuracy: 0.5829 - val_loss: 0.2406 - val_accuracy: 0.6233\n",
      "Epoch 2/10\n",
      "38/38 [==============================] - 13s 354ms/step - loss: 0.2387 - accuracy: 0.6171 - val_loss: 0.2362 - val_accuracy: 0.6317\n",
      "Epoch 3/10\n",
      "38/38 [==============================] - 13s 352ms/step - loss: 0.2384 - accuracy: 0.6129 - val_loss: 0.2345 - val_accuracy: 0.6267\n",
      "Epoch 4/10\n",
      "38/38 [==============================] - 14s 357ms/step - loss: 0.2337 - accuracy: 0.6246 - val_loss: 0.2353 - val_accuracy: 0.6300\n",
      "Epoch 5/10\n",
      "38/38 [==============================] - 14s 361ms/step - loss: 0.2444 - accuracy: 0.5758 - val_loss: 0.2392 - val_accuracy: 0.6217\n",
      "Epoch 6/10\n",
      "38/38 [==============================] - 12s 321ms/step - loss: 0.2430 - accuracy: 0.5813 - val_loss: 0.2638 - val_accuracy: 0.5183\n",
      "Epoch 7/10\n",
      "38/38 [==============================] - 12s 313ms/step - loss: 0.2536 - accuracy: 0.5483 - val_loss: 0.2426 - val_accuracy: 0.5767\n",
      "Epoch 8/10\n",
      "38/38 [==============================] - 12s 314ms/step - loss: 0.2519 - accuracy: 0.5454 - val_loss: 0.2388 - val_accuracy: 0.6133\n",
      "Epoch 9/10\n",
      "38/38 [==============================] - 13s 330ms/step - loss: 0.2470 - accuracy: 0.5688 - val_loss: 0.2375 - val_accuracy: 0.6333\n",
      "Epoch 10/10\n",
      "38/38 [==============================] - 12s 317ms/step - loss: 0.2468 - accuracy: 0.5683 - val_loss: 0.2350 - val_accuracy: 0.6233\n"
     ]
    }
   ],
   "source": [
    "history = rnn_model.fit(X_train_pad, y_train, epochs=10, batch_size=64, \n",
    "                        validation_data=(X_test_pad, y_test))"
   ]
  },
  {
   "cell_type": "code",
   "execution_count": 135,
   "metadata": {},
   "outputs": [
    {
     "name": "stdout",
     "output_type": "stream",
     "text": [
      "PAC Accuracy: 62.33%\n"
     ]
    }
   ],
   "source": [
    "pred_y = rnn_model.predict_classes(X_test_pad)\n",
    "score=accuracy_score(y_test,pred_y)\n",
    "print(f'PAC Accuracy: {round(score*100,2)}%')"
   ]
  },
  {
   "cell_type": "code",
   "execution_count": 136,
   "metadata": {},
   "outputs": [
    {
     "data": {
      "text/plain": [
       "array([[203,  96],\n",
       "       [130, 171]])"
      ]
     },
     "execution_count": 136,
     "metadata": {},
     "output_type": "execute_result"
    }
   ],
   "source": [
    "confusion_matrix(y_test,pred_y)"
   ]
  },
  {
   "cell_type": "markdown",
   "metadata": {},
   "source": [
    "## Recurrent Convolutional Neural Networks"
   ]
  },
  {
   "cell_type": "code",
   "execution_count": 115,
   "metadata": {},
   "outputs": [
    {
     "name": "stdout",
     "output_type": "stream",
     "text": [
      "Model: \"sequential_34\"\n",
      "_________________________________________________________________\n",
      "Layer (type)                 Output Shape              Param #   \n",
      "=================================================================\n",
      "embedding_34 (Embedding)     (None, 512, 64)           3743936   \n",
      "_________________________________________________________________\n",
      "conv1d_34 (Conv1D)           (None, 512, 256)          82176     \n",
      "_________________________________________________________________\n",
      "max_pooling1d_31 (MaxPooling (None, 256, 256)          0         \n",
      "_________________________________________________________________\n",
      "conv1d_35 (Conv1D)           (None, 256, 512)          655872    \n",
      "_________________________________________________________________\n",
      "max_pooling1d_32 (MaxPooling (None, 128, 512)          0         \n",
      "_________________________________________________________________\n",
      "conv1d_36 (Conv1D)           (None, 128, 768)          1966848   \n",
      "_________________________________________________________________\n",
      "max_pooling1d_33 (MaxPooling (None, 64, 768)           0         \n",
      "_________________________________________________________________\n",
      "lstm_23 (LSTM)               (None, 64, 128)           459264    \n",
      "_________________________________________________________________\n",
      "dropout_63 (Dropout)         (None, 64, 128)           0         \n",
      "_________________________________________________________________\n",
      "lstm_24 (LSTM)               (None, 128)               131584    \n",
      "_________________________________________________________________\n",
      "dropout_64 (Dropout)         (None, 128)               0         \n",
      "_________________________________________________________________\n",
      "dense_30 (Dense)             (None, 1)                 129       \n",
      "=================================================================\n",
      "Total params: 7,039,809\n",
      "Trainable params: 7,039,809\n",
      "Non-trainable params: 0\n",
      "_________________________________________________________________\n"
     ]
    }
   ],
   "source": [
    "conv_lstm_model = Sequential()\n",
    "conv_lstm_model.add(Embedding(input_dim=anz_woerter+1, output_dim=output_dim, input_length=laenge_pads))\n",
    "conv_lstm_model.add(Conv1D(filters=256, kernel_size=5, padding='same', activation='relu'))\n",
    "conv_lstm_model.add(MaxPooling1D(pool_size=2))\n",
    "conv_lstm_model.add(Conv1D(filters=512, kernel_size=5, padding='same', activation='relu'))\n",
    "conv_lstm_model.add(MaxPooling1D(pool_size=2))\n",
    "conv_lstm_model.add(Conv1D(filters=768, kernel_size=5, padding='same', activation='relu'))\n",
    "conv_lstm_model.add(MaxPooling1D(pool_size=2))\n",
    "conv_lstm_model.add(LSTM(128, return_sequences=True))\n",
    "conv_lstm_model.add(Dropout(0.1))\n",
    "conv_lstm_model.add(LSTM(128))\n",
    "conv_lstm_model.add(Dropout(0.1))\n",
    "conv_lstm_model.add(Dense(1, activation='sigmoid'))\n",
    "\n",
    "conv_lstm_model.compile(loss='binary_crossentropy', optimizer='adam', metrics=['accuracy'])\n",
    "conv_lstm_model.summary()"
   ]
  },
  {
   "cell_type": "code",
   "execution_count": 116,
   "metadata": {},
   "outputs": [
    {
     "name": "stdout",
     "output_type": "stream",
     "text": [
      "Epoch 1/10\n",
      "38/38 [==============================] - 85s 2s/step - loss: 0.6607 - accuracy: 0.6108 - val_loss: 0.5827 - val_accuracy: 0.6683\n",
      "Epoch 2/10\n",
      "38/38 [==============================] - 86s 2s/step - loss: 0.4186 - accuracy: 0.8196 - val_loss: 0.5474 - val_accuracy: 0.7167\n",
      "Epoch 3/10\n",
      "38/38 [==============================] - 86s 2s/step - loss: 0.2141 - accuracy: 0.9075 - val_loss: 0.4816 - val_accuracy: 0.8167\n",
      "Epoch 4/10\n",
      "38/38 [==============================] - 86s 2s/step - loss: 0.1198 - accuracy: 0.9683 - val_loss: 1.9004 - val_accuracy: 0.5633\n",
      "Epoch 5/10\n",
      "38/38 [==============================] - 87s 2s/step - loss: 0.3142 - accuracy: 0.8933 - val_loss: 0.4236 - val_accuracy: 0.8550\n",
      "Epoch 6/10\n",
      "38/38 [==============================] - 87s 2s/step - loss: 0.0663 - accuracy: 0.9833 - val_loss: 0.5138 - val_accuracy: 0.8617\n",
      "Epoch 7/10\n",
      "38/38 [==============================] - 90s 2s/step - loss: 0.0474 - accuracy: 0.9875 - val_loss: 0.4451 - val_accuracy: 0.8867\n",
      "Epoch 8/10\n",
      "38/38 [==============================] - 88s 2s/step - loss: 0.0341 - accuracy: 0.9929 - val_loss: 0.7327 - val_accuracy: 0.8367\n",
      "Epoch 9/10\n",
      "38/38 [==============================] - 88s 2s/step - loss: 0.0235 - accuracy: 0.9950 - val_loss: 0.5168 - val_accuracy: 0.8817\n",
      "Epoch 10/10\n",
      "38/38 [==============================] - 88s 2s/step - loss: 0.0100 - accuracy: 0.9983 - val_loss: 0.6707 - val_accuracy: 0.8800\n"
     ]
    }
   ],
   "source": [
    "history = conv_lstm_model.fit(X_train_pad, y_train, epochs=10, batch_size=64, \n",
    "                        validation_data=(X_test_pad, y_test))"
   ]
  },
  {
   "cell_type": "code",
   "execution_count": 117,
   "metadata": {},
   "outputs": [
    {
     "name": "stdout",
     "output_type": "stream",
     "text": [
      "PAC Accuracy: 88.0%\n"
     ]
    }
   ],
   "source": [
    "pred_y = conv_lstm_model.predict_classes(X_test_pad)\n",
    "score=accuracy_score(y_test,pred_y)\n",
    "print(f'PAC Accuracy: {round(score*100,2)}%')"
   ]
  },
  {
   "cell_type": "code",
   "execution_count": 118,
   "metadata": {},
   "outputs": [
    {
     "data": {
      "text/plain": [
       "array([[276,  23],\n",
       "       [ 49, 252]])"
      ]
     },
     "execution_count": 118,
     "metadata": {},
     "output_type": "execute_result"
    }
   ],
   "source": [
    "confusion_matrix(y_test,pred_y)"
   ]
  }
 ],
 "metadata": {
  "kernelspec": {
   "display_name": "Python 3",
   "language": "python",
   "name": "python3"
  },
  "language_info": {
   "codemirror_mode": {
    "name": "ipython",
    "version": 3
   },
   "file_extension": ".py",
   "mimetype": "text/x-python",
   "name": "python",
   "nbconvert_exporter": "python",
   "pygments_lexer": "ipython3",
   "version": "3.8.5"
  }
 },
 "nbformat": 4,
 "nbformat_minor": 4
}
