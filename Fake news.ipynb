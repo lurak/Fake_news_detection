{
 "cells": [
  {
   "cell_type": "code",
   "execution_count": 1,
   "metadata": {},
   "outputs": [],
   "source": [
    "import pandas as pd\n",
    "import numpy as np\n",
    "from sklearn.feature_extraction.text import TfidfVectorizer\n",
    "from sklearn.linear_model import PassiveAggressiveClassifier\n",
    "from sklearn.model_selection import train_test_split\n",
    "from sklearn.metrics import accuracy_score, confusion_matrix\n",
    "from sklearn.model_selection import cross_val_score\n",
    "from sklearn.ensemble import RandomForestClassifier\n",
    "from sklearn.base import BaseEstimator, ClassifierMixin\n",
    "from keras.preprocessing.text import hashing_trick\n",
    "from keras.preprocessing.text import text_to_word_sequence\n",
    "from keras.models import Sequential, load_model\n",
    "from keras.layers import Embedding, LSTM, Dense, Conv1D, MaxPooling1D, Dropout\n",
    "from keras.preprocessing.text import Tokenizer\n",
    "from keras.preprocessing import sequence\n",
    "from keras.callbacks import EarlyStopping, ModelCheckpoint"
   ]
  },
  {
   "cell_type": "markdown",
   "metadata": {},
   "source": [
    "# Fake detection using Passive Agressive Classifier"
   ]
  },
  {
   "cell_type": "markdown",
   "metadata": {},
   "source": [
    "### Data preparation"
   ]
  },
  {
   "cell_type": "code",
   "execution_count": 2,
   "metadata": {},
   "outputs": [
    {
     "data": {
      "text/html": [
       "<div>\n",
       "<style scoped>\n",
       "    .dataframe tbody tr th:only-of-type {\n",
       "        vertical-align: middle;\n",
       "    }\n",
       "\n",
       "    .dataframe tbody tr th {\n",
       "        vertical-align: top;\n",
       "    }\n",
       "\n",
       "    .dataframe thead th {\n",
       "        text-align: right;\n",
       "    }\n",
       "</style>\n",
       "<table border=\"1\" class=\"dataframe\">\n",
       "  <thead>\n",
       "    <tr style=\"text-align: right;\">\n",
       "      <th></th>\n",
       "      <th>Unnamed: 0</th>\n",
       "      <th>title</th>\n",
       "      <th>text</th>\n",
       "      <th>label</th>\n",
       "    </tr>\n",
       "  </thead>\n",
       "  <tbody>\n",
       "    <tr>\n",
       "      <th>0</th>\n",
       "      <td>8476</td>\n",
       "      <td>You Can Smell Hillary’s Fear</td>\n",
       "      <td>Daniel Greenfield, a Shillman Journalism Fello...</td>\n",
       "      <td>FAKE</td>\n",
       "    </tr>\n",
       "    <tr>\n",
       "      <th>1</th>\n",
       "      <td>10294</td>\n",
       "      <td>Watch The Exact Moment Paul Ryan Committed Pol...</td>\n",
       "      <td>Google Pinterest Digg Linkedin Reddit Stumbleu...</td>\n",
       "      <td>FAKE</td>\n",
       "    </tr>\n",
       "    <tr>\n",
       "      <th>2</th>\n",
       "      <td>3608</td>\n",
       "      <td>Kerry to go to Paris in gesture of sympathy</td>\n",
       "      <td>U.S. Secretary of State John F. Kerry said Mon...</td>\n",
       "      <td>REAL</td>\n",
       "    </tr>\n",
       "    <tr>\n",
       "      <th>3</th>\n",
       "      <td>10142</td>\n",
       "      <td>Bernie supporters on Twitter erupt in anger ag...</td>\n",
       "      <td>— Kaydee King (@KaydeeKing) November 9, 2016 T...</td>\n",
       "      <td>FAKE</td>\n",
       "    </tr>\n",
       "    <tr>\n",
       "      <th>4</th>\n",
       "      <td>875</td>\n",
       "      <td>The Battle of New York: Why This Primary Matters</td>\n",
       "      <td>It's primary day in New York and front-runners...</td>\n",
       "      <td>REAL</td>\n",
       "    </tr>\n",
       "    <tr>\n",
       "      <th>5</th>\n",
       "      <td>6903</td>\n",
       "      <td>Tehran, USA</td>\n",
       "      <td>\\nI’m not an immigrant, but my grandparents ...</td>\n",
       "      <td>FAKE</td>\n",
       "    </tr>\n",
       "    <tr>\n",
       "      <th>6</th>\n",
       "      <td>7341</td>\n",
       "      <td>Girl Horrified At What She Watches Boyfriend D...</td>\n",
       "      <td>Share This Baylee Luciani (left), Screenshot o...</td>\n",
       "      <td>FAKE</td>\n",
       "    </tr>\n",
       "    <tr>\n",
       "      <th>7</th>\n",
       "      <td>95</td>\n",
       "      <td>‘Britain’s Schindler’ Dies at 106</td>\n",
       "      <td>A Czech stockbroker who saved more than 650 Je...</td>\n",
       "      <td>REAL</td>\n",
       "    </tr>\n",
       "    <tr>\n",
       "      <th>8</th>\n",
       "      <td>4869</td>\n",
       "      <td>Fact check: Trump and Clinton at the 'commande...</td>\n",
       "      <td>Hillary Clinton and Donald Trump made some ina...</td>\n",
       "      <td>REAL</td>\n",
       "    </tr>\n",
       "    <tr>\n",
       "      <th>9</th>\n",
       "      <td>2909</td>\n",
       "      <td>Iran reportedly makes new push for uranium con...</td>\n",
       "      <td>Iranian negotiators reportedly have made a las...</td>\n",
       "      <td>REAL</td>\n",
       "    </tr>\n",
       "  </tbody>\n",
       "</table>\n",
       "</div>"
      ],
      "text/plain": [
       "   Unnamed: 0                                              title  \\\n",
       "0        8476                       You Can Smell Hillary’s Fear   \n",
       "1       10294  Watch The Exact Moment Paul Ryan Committed Pol...   \n",
       "2        3608        Kerry to go to Paris in gesture of sympathy   \n",
       "3       10142  Bernie supporters on Twitter erupt in anger ag...   \n",
       "4         875   The Battle of New York: Why This Primary Matters   \n",
       "5        6903                                        Tehran, USA   \n",
       "6        7341  Girl Horrified At What She Watches Boyfriend D...   \n",
       "7          95                  ‘Britain’s Schindler’ Dies at 106   \n",
       "8        4869  Fact check: Trump and Clinton at the 'commande...   \n",
       "9        2909  Iran reportedly makes new push for uranium con...   \n",
       "\n",
       "                                                text label  \n",
       "0  Daniel Greenfield, a Shillman Journalism Fello...  FAKE  \n",
       "1  Google Pinterest Digg Linkedin Reddit Stumbleu...  FAKE  \n",
       "2  U.S. Secretary of State John F. Kerry said Mon...  REAL  \n",
       "3  — Kaydee King (@KaydeeKing) November 9, 2016 T...  FAKE  \n",
       "4  It's primary day in New York and front-runners...  REAL  \n",
       "5    \\nI’m not an immigrant, but my grandparents ...  FAKE  \n",
       "6  Share This Baylee Luciani (left), Screenshot o...  FAKE  \n",
       "7  A Czech stockbroker who saved more than 650 Je...  REAL  \n",
       "8  Hillary Clinton and Donald Trump made some ina...  REAL  \n",
       "9  Iranian negotiators reportedly have made a las...  REAL  "
      ]
     },
     "execution_count": 2,
     "metadata": {},
     "output_type": "execute_result"
    }
   ],
   "source": [
    "df = pd.read_csv(\"news.csv\")\n",
    "df.head(10)"
   ]
  },
  {
   "cell_type": "code",
   "execution_count": 3,
   "metadata": {},
   "outputs": [
    {
     "data": {
      "text/plain": [
       "0    3171\n",
       "1    3164\n",
       "Name: label, dtype: int64"
      ]
     },
     "execution_count": 3,
     "metadata": {},
     "output_type": "execute_result"
    }
   ],
   "source": [
    "conversion_dict = {'REAL': 0, 'FAKE': 1}\n",
    "df['label'] = df['label'].replace(conversion_dict)\n",
    "df.label.value_counts()"
   ]
  },
  {
   "cell_type": "code",
   "execution_count": 4,
   "metadata": {},
   "outputs": [
    {
     "data": {
      "text/html": [
       "<div>\n",
       "<style scoped>\n",
       "    .dataframe tbody tr th:only-of-type {\n",
       "        vertical-align: middle;\n",
       "    }\n",
       "\n",
       "    .dataframe tbody tr th {\n",
       "        vertical-align: top;\n",
       "    }\n",
       "\n",
       "    .dataframe thead th {\n",
       "        text-align: right;\n",
       "    }\n",
       "</style>\n",
       "<table border=\"1\" class=\"dataframe\">\n",
       "  <thead>\n",
       "    <tr style=\"text-align: right;\">\n",
       "      <th></th>\n",
       "      <th>Unnamed: 0</th>\n",
       "      <th>title</th>\n",
       "      <th>text</th>\n",
       "      <th>label</th>\n",
       "    </tr>\n",
       "  </thead>\n",
       "  <tbody>\n",
       "    <tr>\n",
       "      <th>0</th>\n",
       "      <td>8476</td>\n",
       "      <td>You Can Smell Hillary’s Fear</td>\n",
       "      <td>Daniel Greenfield, a Shillman Journalism Fello...</td>\n",
       "      <td>1</td>\n",
       "    </tr>\n",
       "    <tr>\n",
       "      <th>1</th>\n",
       "      <td>10294</td>\n",
       "      <td>Watch The Exact Moment Paul Ryan Committed Pol...</td>\n",
       "      <td>Google Pinterest Digg Linkedin Reddit Stumbleu...</td>\n",
       "      <td>1</td>\n",
       "    </tr>\n",
       "    <tr>\n",
       "      <th>2</th>\n",
       "      <td>3608</td>\n",
       "      <td>Kerry to go to Paris in gesture of sympathy</td>\n",
       "      <td>U.S. Secretary of State John F. Kerry said Mon...</td>\n",
       "      <td>0</td>\n",
       "    </tr>\n",
       "    <tr>\n",
       "      <th>3</th>\n",
       "      <td>10142</td>\n",
       "      <td>Bernie supporters on Twitter erupt in anger ag...</td>\n",
       "      <td>— Kaydee King (@KaydeeKing) November 9, 2016 T...</td>\n",
       "      <td>1</td>\n",
       "    </tr>\n",
       "    <tr>\n",
       "      <th>4</th>\n",
       "      <td>875</td>\n",
       "      <td>The Battle of New York: Why This Primary Matters</td>\n",
       "      <td>It's primary day in New York and front-runners...</td>\n",
       "      <td>0</td>\n",
       "    </tr>\n",
       "    <tr>\n",
       "      <th>5</th>\n",
       "      <td>6903</td>\n",
       "      <td>Tehran, USA</td>\n",
       "      <td>\\nI’m not an immigrant, but my grandparents ...</td>\n",
       "      <td>1</td>\n",
       "    </tr>\n",
       "    <tr>\n",
       "      <th>6</th>\n",
       "      <td>7341</td>\n",
       "      <td>Girl Horrified At What She Watches Boyfriend D...</td>\n",
       "      <td>Share This Baylee Luciani (left), Screenshot o...</td>\n",
       "      <td>1</td>\n",
       "    </tr>\n",
       "    <tr>\n",
       "      <th>7</th>\n",
       "      <td>95</td>\n",
       "      <td>‘Britain’s Schindler’ Dies at 106</td>\n",
       "      <td>A Czech stockbroker who saved more than 650 Je...</td>\n",
       "      <td>0</td>\n",
       "    </tr>\n",
       "    <tr>\n",
       "      <th>8</th>\n",
       "      <td>4869</td>\n",
       "      <td>Fact check: Trump and Clinton at the 'commande...</td>\n",
       "      <td>Hillary Clinton and Donald Trump made some ina...</td>\n",
       "      <td>0</td>\n",
       "    </tr>\n",
       "    <tr>\n",
       "      <th>9</th>\n",
       "      <td>2909</td>\n",
       "      <td>Iran reportedly makes new push for uranium con...</td>\n",
       "      <td>Iranian negotiators reportedly have made a las...</td>\n",
       "      <td>0</td>\n",
       "    </tr>\n",
       "  </tbody>\n",
       "</table>\n",
       "</div>"
      ],
      "text/plain": [
       "   Unnamed: 0                                              title  \\\n",
       "0        8476                       You Can Smell Hillary’s Fear   \n",
       "1       10294  Watch The Exact Moment Paul Ryan Committed Pol...   \n",
       "2        3608        Kerry to go to Paris in gesture of sympathy   \n",
       "3       10142  Bernie supporters on Twitter erupt in anger ag...   \n",
       "4         875   The Battle of New York: Why This Primary Matters   \n",
       "5        6903                                        Tehran, USA   \n",
       "6        7341  Girl Horrified At What She Watches Boyfriend D...   \n",
       "7          95                  ‘Britain’s Schindler’ Dies at 106   \n",
       "8        4869  Fact check: Trump and Clinton at the 'commande...   \n",
       "9        2909  Iran reportedly makes new push for uranium con...   \n",
       "\n",
       "                                                text  label  \n",
       "0  Daniel Greenfield, a Shillman Journalism Fello...      1  \n",
       "1  Google Pinterest Digg Linkedin Reddit Stumbleu...      1  \n",
       "2  U.S. Secretary of State John F. Kerry said Mon...      0  \n",
       "3  — Kaydee King (@KaydeeKing) November 9, 2016 T...      1  \n",
       "4  It's primary day in New York and front-runners...      0  \n",
       "5    \\nI’m not an immigrant, but my grandparents ...      1  \n",
       "6  Share This Baylee Luciani (left), Screenshot o...      1  \n",
       "7  A Czech stockbroker who saved more than 650 Je...      0  \n",
       "8  Hillary Clinton and Donald Trump made some ina...      0  \n",
       "9  Iranian negotiators reportedly have made a las...      0  "
      ]
     },
     "execution_count": 4,
     "metadata": {},
     "output_type": "execute_result"
    }
   ],
   "source": [
    "df.head(10)"
   ]
  },
  {
   "cell_type": "markdown",
   "metadata": {},
   "source": [
    "### Words vectorize and model build"
   ]
  },
  {
   "cell_type": "code",
   "execution_count": 5,
   "metadata": {},
   "outputs": [],
   "source": [
    "x_train_first,x_test_first,y_train_first,y_test_first=train_test_split(df['text'], df['label'], test_size=0.25, random_state=7, shuffle=True)\n",
    "tfidf_vectorizer=TfidfVectorizer(stop_words='english', max_df=0.75 )"
   ]
  },
  {
   "cell_type": "code",
   "execution_count": 6,
   "metadata": {},
   "outputs": [
    {
     "data": {
      "text/plain": [
       "PassiveAggressiveClassifier(max_iter=50)"
      ]
     },
     "execution_count": 6,
     "metadata": {},
     "output_type": "execute_result"
    }
   ],
   "source": [
    "first_vec_train=tfidf_vectorizer.fit_transform(x_train_first.values.astype('U')) \n",
    "first_vec_test=tfidf_vectorizer.transform(x_test_first.values.astype('U'))\n",
    "pac=PassiveAggressiveClassifier(max_iter=50)\n",
    "pac.fit(first_vec_train,y_train_first)"
   ]
  },
  {
   "cell_type": "markdown",
   "metadata": {},
   "source": [
    "### Results"
   ]
  },
  {
   "cell_type": "code",
   "execution_count": 7,
   "metadata": {},
   "outputs": [
    {
     "name": "stdout",
     "output_type": "stream",
     "text": [
      "PAC Accuracy: 92.68%\n"
     ]
    }
   ],
   "source": [
    "y_pred=pac.predict(first_vec_test)\n",
    "score=accuracy_score(y_test_first,y_pred)\n",
    "print(f'PAC Accuracy: {round(score*100,2)}%')"
   ]
  },
  {
   "cell_type": "code",
   "execution_count": 8,
   "metadata": {},
   "outputs": [
    {
     "data": {
      "text/plain": [
       "array([[716,  60],\n",
       "       [ 56, 752]])"
      ]
     },
     "execution_count": 8,
     "metadata": {},
     "output_type": "execute_result"
    }
   ],
   "source": [
    "confusion_matrix(y_test_first,y_pred)"
   ]
  },
  {
   "cell_type": "code",
   "execution_count": 9,
   "metadata": {},
   "outputs": [
    {
     "name": "stdout",
     "output_type": "stream",
     "text": [
      "K Fold Accuracy: 93.95%\n"
     ]
    }
   ],
   "source": [
    "X=tfidf_vectorizer.transform(df['text'].values.astype('U'))\n",
    "scores = cross_val_score(pac, X, df['label'].values, cv=5)\n",
    "print(f'K Fold Accuracy: {round(scores.mean()*100,2)}%')"
   ]
  },
  {
   "cell_type": "markdown",
   "metadata": {},
   "source": [
    "### Trying another dataset"
   ]
  },
  {
   "cell_type": "code",
   "execution_count": 10,
   "metadata": {},
   "outputs": [],
   "source": [
    "df_true=pd.read_csv('True.csv', nrows=2500)\n",
    "df_true['label']= 0\n",
    "df_true_rep=[df_true['text'][i].replace('WASHINGTON (Reuters) - ','').replace('LONDON (Reuters) - ','').replace('(Reuters) - ','') for i in range(len(df_true['text']))]\n",
    "df_true['text']=df_true_rep\n",
    "df_fake = pd.read_csv(\"Fake.csv\" ,nrows=2500)\n",
    "df_fake['label']= 1\n",
    "df_final=pd.concat([df_true,df_fake])\n",
    "df_final=df_final.drop(['subject','date'], axis=1)"
   ]
  },
  {
   "cell_type": "code",
   "execution_count": 11,
   "metadata": {},
   "outputs": [
    {
     "data": {
      "text/html": [
       "<div>\n",
       "<style scoped>\n",
       "    .dataframe tbody tr th:only-of-type {\n",
       "        vertical-align: middle;\n",
       "    }\n",
       "\n",
       "    .dataframe tbody tr th {\n",
       "        vertical-align: top;\n",
       "    }\n",
       "\n",
       "    .dataframe thead th {\n",
       "        text-align: right;\n",
       "    }\n",
       "</style>\n",
       "<table border=\"1\" class=\"dataframe\">\n",
       "  <thead>\n",
       "    <tr style=\"text-align: right;\">\n",
       "      <th></th>\n",
       "      <th>title</th>\n",
       "      <th>text</th>\n",
       "      <th>label</th>\n",
       "    </tr>\n",
       "  </thead>\n",
       "  <tbody>\n",
       "    <tr>\n",
       "      <th>0</th>\n",
       "      <td>As U.S. budget fight looms, Republicans flip t...</td>\n",
       "      <td>The head of a conservative Republican faction ...</td>\n",
       "      <td>0</td>\n",
       "    </tr>\n",
       "    <tr>\n",
       "      <th>1</th>\n",
       "      <td>U.S. military to accept transgender recruits o...</td>\n",
       "      <td>Transgender people will be allowed for the fir...</td>\n",
       "      <td>0</td>\n",
       "    </tr>\n",
       "    <tr>\n",
       "      <th>2</th>\n",
       "      <td>Senior U.S. Republican senator: 'Let Mr. Muell...</td>\n",
       "      <td>The special counsel investigation of links bet...</td>\n",
       "      <td>0</td>\n",
       "    </tr>\n",
       "    <tr>\n",
       "      <th>3</th>\n",
       "      <td>FBI Russia probe helped by Australian diplomat...</td>\n",
       "      <td>Trump campaign adviser George Papadopoulos tol...</td>\n",
       "      <td>0</td>\n",
       "    </tr>\n",
       "    <tr>\n",
       "      <th>4</th>\n",
       "      <td>Trump wants Postal Service to charge 'much mor...</td>\n",
       "      <td>SEATTLE/President Donald Trump called on the U...</td>\n",
       "      <td>0</td>\n",
       "    </tr>\n",
       "    <tr>\n",
       "      <th>5</th>\n",
       "      <td>White House, Congress prepare for talks on spe...</td>\n",
       "      <td>WEST PALM BEACH, Fla./The White House said on ...</td>\n",
       "      <td>0</td>\n",
       "    </tr>\n",
       "    <tr>\n",
       "      <th>6</th>\n",
       "      <td>Trump says Russia probe will be fair, but time...</td>\n",
       "      <td>WEST PALM BEACH, Fla President Donald Trump sa...</td>\n",
       "      <td>0</td>\n",
       "    </tr>\n",
       "    <tr>\n",
       "      <th>7</th>\n",
       "      <td>Factbox: Trump on Twitter (Dec 29) - Approval ...</td>\n",
       "      <td>The following statements were posted to the ve...</td>\n",
       "      <td>0</td>\n",
       "    </tr>\n",
       "    <tr>\n",
       "      <th>8</th>\n",
       "      <td>Trump on Twitter (Dec 28) - Global Warming</td>\n",
       "      <td>The following statements were posted to the ve...</td>\n",
       "      <td>0</td>\n",
       "    </tr>\n",
       "    <tr>\n",
       "      <th>9</th>\n",
       "      <td>Alabama official to certify Senator-elect Jone...</td>\n",
       "      <td>Alabama Secretary of State John Merrill said h...</td>\n",
       "      <td>0</td>\n",
       "    </tr>\n",
       "  </tbody>\n",
       "</table>\n",
       "</div>"
      ],
      "text/plain": [
       "                                               title  \\\n",
       "0  As U.S. budget fight looms, Republicans flip t...   \n",
       "1  U.S. military to accept transgender recruits o...   \n",
       "2  Senior U.S. Republican senator: 'Let Mr. Muell...   \n",
       "3  FBI Russia probe helped by Australian diplomat...   \n",
       "4  Trump wants Postal Service to charge 'much mor...   \n",
       "5  White House, Congress prepare for talks on spe...   \n",
       "6  Trump says Russia probe will be fair, but time...   \n",
       "7  Factbox: Trump on Twitter (Dec 29) - Approval ...   \n",
       "8         Trump on Twitter (Dec 28) - Global Warming   \n",
       "9  Alabama official to certify Senator-elect Jone...   \n",
       "\n",
       "                                                text  label  \n",
       "0  The head of a conservative Republican faction ...      0  \n",
       "1  Transgender people will be allowed for the fir...      0  \n",
       "2  The special counsel investigation of links bet...      0  \n",
       "3  Trump campaign adviser George Papadopoulos tol...      0  \n",
       "4  SEATTLE/President Donald Trump called on the U...      0  \n",
       "5  WEST PALM BEACH, Fla./The White House said on ...      0  \n",
       "6  WEST PALM BEACH, Fla President Donald Trump sa...      0  \n",
       "7  The following statements were posted to the ve...      0  \n",
       "8  The following statements were posted to the ve...      0  \n",
       "9  Alabama Secretary of State John Merrill said h...      0  "
      ]
     },
     "execution_count": 11,
     "metadata": {},
     "output_type": "execute_result"
    }
   ],
   "source": [
    "df_final.head(10)"
   ]
  },
  {
   "cell_type": "code",
   "execution_count": 12,
   "metadata": {},
   "outputs": [
    {
     "data": {
      "text/html": [
       "<div>\n",
       "<style scoped>\n",
       "    .dataframe tbody tr th:only-of-type {\n",
       "        vertical-align: middle;\n",
       "    }\n",
       "\n",
       "    .dataframe tbody tr th {\n",
       "        vertical-align: top;\n",
       "    }\n",
       "\n",
       "    .dataframe thead th {\n",
       "        text-align: right;\n",
       "    }\n",
       "</style>\n",
       "<table border=\"1\" class=\"dataframe\">\n",
       "  <thead>\n",
       "    <tr style=\"text-align: right;\">\n",
       "      <th></th>\n",
       "      <th>title</th>\n",
       "      <th>text</th>\n",
       "      <th>label</th>\n",
       "    </tr>\n",
       "  </thead>\n",
       "  <tbody>\n",
       "    <tr>\n",
       "      <th>2490</th>\n",
       "      <td>REPORT: Even Republicans Are ‘Disturbed’ By T...</td>\n",
       "      <td>Donald Trump s days in the White House could b...</td>\n",
       "      <td>1</td>\n",
       "    </tr>\n",
       "    <tr>\n",
       "      <th>2491</th>\n",
       "      <td>Eric Trump Just Asked The Labor Department To...</td>\n",
       "      <td>If any other American company did this, Donald...</td>\n",
       "      <td>1</td>\n",
       "    </tr>\n",
       "    <tr>\n",
       "      <th>2492</th>\n",
       "      <td>REPORT: Trump Considering Using National Guar...</td>\n",
       "      <td>Donald Trump reportedly wants to use the Natio...</td>\n",
       "      <td>1</td>\n",
       "    </tr>\n",
       "    <tr>\n",
       "      <th>2493</th>\n",
       "      <td>WATCH: Trump Assumes Black Reporter Can Set U...</td>\n",
       "      <td>After claiming that he s  the least racist per...</td>\n",
       "      <td>1</td>\n",
       "    </tr>\n",
       "    <tr>\n",
       "      <th>2494</th>\n",
       "      <td>Trump Thinks Rush Limbaugh Is Real News And T...</td>\n",
       "      <td>Rush Limbaugh praised Donald Trump s insanely ...</td>\n",
       "      <td>1</td>\n",
       "    </tr>\n",
       "    <tr>\n",
       "      <th>2495</th>\n",
       "      <td>WATCH: Fox News Host DEFENDS CNN Reporter, Te...</td>\n",
       "      <td>Even Fox News is calling Donald Trump out for ...</td>\n",
       "      <td>1</td>\n",
       "    </tr>\n",
       "    <tr>\n",
       "      <th>2496</th>\n",
       "      <td>GOP Senator DESPERATELY Worried About Trump’s...</td>\n",
       "      <td>On Thursday afternoon, the world was treated t...</td>\n",
       "      <td>1</td>\n",
       "    </tr>\n",
       "    <tr>\n",
       "      <th>2497</th>\n",
       "      <td>WATCH: NBC Reporter Calls Trump Out For Lying...</td>\n",
       "      <td>Donald Trump finally held his first solo press...</td>\n",
       "      <td>1</td>\n",
       "    </tr>\n",
       "    <tr>\n",
       "      <th>2498</th>\n",
       "      <td>Tapper SLAMS Trump For BIZARRE Behavior At ‘W...</td>\n",
       "      <td>There is certainly no love lost between CNN an...</td>\n",
       "      <td>1</td>\n",
       "    </tr>\n",
       "    <tr>\n",
       "      <th>2499</th>\n",
       "      <td>LOL: Putin Is Angry Now Because Trump Gets Mo...</td>\n",
       "      <td>Vladimir Putin is super pissed because Russian...</td>\n",
       "      <td>1</td>\n",
       "    </tr>\n",
       "  </tbody>\n",
       "</table>\n",
       "</div>"
      ],
      "text/plain": [
       "                                                  title  \\\n",
       "2490   REPORT: Even Republicans Are ‘Disturbed’ By T...   \n",
       "2491   Eric Trump Just Asked The Labor Department To...   \n",
       "2492   REPORT: Trump Considering Using National Guar...   \n",
       "2493   WATCH: Trump Assumes Black Reporter Can Set U...   \n",
       "2494   Trump Thinks Rush Limbaugh Is Real News And T...   \n",
       "2495   WATCH: Fox News Host DEFENDS CNN Reporter, Te...   \n",
       "2496   GOP Senator DESPERATELY Worried About Trump’s...   \n",
       "2497   WATCH: NBC Reporter Calls Trump Out For Lying...   \n",
       "2498   Tapper SLAMS Trump For BIZARRE Behavior At ‘W...   \n",
       "2499   LOL: Putin Is Angry Now Because Trump Gets Mo...   \n",
       "\n",
       "                                                   text  label  \n",
       "2490  Donald Trump s days in the White House could b...      1  \n",
       "2491  If any other American company did this, Donald...      1  \n",
       "2492  Donald Trump reportedly wants to use the Natio...      1  \n",
       "2493  After claiming that he s  the least racist per...      1  \n",
       "2494  Rush Limbaugh praised Donald Trump s insanely ...      1  \n",
       "2495  Even Fox News is calling Donald Trump out for ...      1  \n",
       "2496  On Thursday afternoon, the world was treated t...      1  \n",
       "2497  Donald Trump finally held his first solo press...      1  \n",
       "2498  There is certainly no love lost between CNN an...      1  \n",
       "2499  Vladimir Putin is super pissed because Russian...      1  "
      ]
     },
     "execution_count": 12,
     "metadata": {},
     "output_type": "execute_result"
    }
   ],
   "source": [
    "df_final.tail(10)"
   ]
  },
  {
   "cell_type": "markdown",
   "metadata": {},
   "source": [
    "### Model build and words vecrorize"
   ]
  },
  {
   "cell_type": "code",
   "execution_count": 13,
   "metadata": {},
   "outputs": [],
   "source": [
    "x_train_second,x_test_second,y_train_second,y_test_second=train_test_split(df_final['text'], df_final['label'], test_size=0.25)\n",
    "tfidf_vectorizer=TfidfVectorizer(stop_words='english', max_df=0.75 )"
   ]
  },
  {
   "cell_type": "code",
   "execution_count": null,
   "metadata": {},
   "outputs": [],
   "source": [
    "second_vec_train=tfidf_vectorizer.fit_transform(x_train_second.values.astype('U')) \n",
    "second_vec_test=tfidf_vectorizer.transform(x_test_second.values.astype('U'))\n",
    "pac=PassiveAggressiveClassifier(max_iter=50)\n",
    "pac.fit(second_vec_train, y_train_second)"
   ]
  },
  {
   "cell_type": "markdown",
   "metadata": {},
   "source": [
    "### Results"
   ]
  },
  {
   "cell_type": "code",
   "execution_count": null,
   "metadata": {},
   "outputs": [],
   "source": [
    "y_pred=pac.predict(second_vec_test)\n",
    "score=accuracy_score(y_test_second,y_pred)\n",
    "print(f'PAC Accuracy: {round(score*100,2)}%')"
   ]
  },
  {
   "cell_type": "code",
   "execution_count": null,
   "metadata": {},
   "outputs": [],
   "source": [
    "confusion_matrix(y_test_second,y_pred)"
   ]
  },
  {
   "cell_type": "code",
   "execution_count": null,
   "metadata": {},
   "outputs": [],
   "source": [
    "X=tfidf_vectorizer.transform(df['text'].values.astype('U'))\n",
    "scores = cross_val_score(pac, X, df['label'].values, cv=5)\n",
    "print(f'K Fold Accuracy: {round(scores.mean()*100,2)}%')"
   ]
  },
  {
   "cell_type": "markdown",
   "metadata": {},
   "source": [
    "### Try other method(Random Forest Classfier)"
   ]
  },
  {
   "cell_type": "code",
   "execution_count": null,
   "metadata": {},
   "outputs": [],
   "source": [
    "RFC = RandomForestClassifier(random_state=0)\n",
    "RFC.fit(first_vec_train, y_train_first)"
   ]
  },
  {
   "cell_type": "code",
   "execution_count": null,
   "metadata": {},
   "outputs": [],
   "source": [
    "y_pred=RFC.predict(first_vec_test)\n",
    "score=accuracy_score(y_test_first,y_pred)\n",
    "print(f'PAC Accuracy: {round(score*100,2)}%')"
   ]
  },
  {
   "cell_type": "code",
   "execution_count": null,
   "metadata": {},
   "outputs": [],
   "source": [
    "confusion_matrix(y_test_first,y_pred)"
   ]
  },
  {
   "cell_type": "code",
   "execution_count": null,
   "metadata": {},
   "outputs": [],
   "source": [
    "X=tfidf_vectorizer.transform(df['text'].values.astype('U'))\n",
    "scores = cross_val_score(RFC, X, df['label'].values, cv=5)\n",
    "print(f'K Fold Accuracy: {round(scores.mean()*100,2)}%')"
   ]
  },
  {
   "cell_type": "markdown",
   "metadata": {},
   "source": [
    "### Second dataset"
   ]
  },
  {
   "cell_type": "code",
   "execution_count": null,
   "metadata": {},
   "outputs": [],
   "source": [
    "RFC = RandomForestClassifier(random_state=0)\n",
    "RFC.fit(second_vec_train, y_train_second)"
   ]
  },
  {
   "cell_type": "code",
   "execution_count": null,
   "metadata": {},
   "outputs": [],
   "source": [
    "y_pred=RFC.predict(second_vec_test)\n",
    "score=accuracy_score(y_test_second,y_pred)\n",
    "print(f'PAC Accuracy: {round(score*100,2)}%')"
   ]
  },
  {
   "cell_type": "code",
   "execution_count": null,
   "metadata": {},
   "outputs": [],
   "source": [
    "confusion_matrix(y_test_second,y_pred)"
   ]
  },
  {
   "cell_type": "code",
   "execution_count": null,
   "metadata": {},
   "outputs": [],
   "source": [
    "X=tfidf_vectorizer.transform(df['text'].values.astype('U'))\n",
    "scores = cross_val_score(RFC, X, df['label'].values, cv=5)\n",
    "print(f'K Fold Accuracy: {round(scores.mean()*100,2)}%')"
   ]
  },
  {
   "cell_type": "code",
   "execution_count": null,
   "metadata": {},
   "outputs": [],
   "source": [
    "class LSTM_Text_Classifier(BaseEstimator, ClassifierMixin):\n",
    "    \n",
    "    def __init__(self, embedding_vector_length, max_seq_length, lstm_layers, batch_size=32, num_epochs=3, use_hash=False,\n",
    "                dropout=None, conv_params=None):\n",
    "        \n",
    "        \"\"\"\n",
    "        __init__ method: creates the tokenizer for the model and saves all of the parameters\n",
    "        embedding_vector_length - the length of the word vectors that will be learned by the embedding layer\n",
    "        max_seq_length - the longest sequence of words that will be taken into account by the classifier (ie. 500 words)\n",
    "        lstm_layers - a list with the number of LSTMs in each recurrent layer\n",
    "        batch_size - the batch size used for training the model\n",
    "        num_epochs - the maximum number of epochs to train for\n",
    "        use_hash - whether or not to use the hashing trick for word indexing\n",
    "        dropout - the dropout rate used in the dropout layers of the model\n",
    "        conv_params - a dictionary with parameters for the convolutional part of the model\n",
    "        \"\"\"\n",
    "        \n",
    "        self.embedding_vector_length = embedding_vector_length\n",
    "        self.max_seq_length = max_seq_length\n",
    "        self.lstm_layer_sizes = lstm_layers\n",
    "        self.num_epochs = num_epochs\n",
    "        self.batch_size = batch_size\n",
    "        self.use_hashing_trick = use_hash\n",
    "        if not self.use_hashing_trick:\n",
    "            self.tokenizer = Tokenizer()\n",
    "        self.dropout = dropout\n",
    "        self.conv_params = conv_params\n",
    "        \n",
    "    \n",
    "    def _get_word_index(self, word):\n",
    "        \"\"\"\n",
    "        This function retrieves the index for a given word using the tokenizer.\n",
    "        \"\"\"\n",
    "        \n",
    "        try:\n",
    "            return self.tokenizer.word_index[word]\n",
    "        except:\n",
    "            return None\n",
    "        \n",
    "    def _text_to_int_sequence(self, text):\n",
    "        \"This function converts a string of text into an integer sequence\"\n",
    "        \n",
    "        seq = [self._get_word_index(word) for word in text_to_word_sequence(text)]\n",
    "        return [index for index in seq if index]\n",
    "        \n",
    "    def fit(self, X, y, validation_data):\n",
    "        \"\"\"\n",
    "        This fit function is analagous to the Scikit-learn fit function used for its estimator API.\n",
    "        X (array-like) - features (text data)\n",
    "        y (array-like) - target (class labels)\n",
    "        validation_data - a tuple with the validation features and targets\n",
    "        \"\"\"\n",
    "        \n",
    "        all_X = pd.concat([X, validation_data[0]])\n",
    "        if self.use_hashing_trick:\n",
    "            all_words = set()\n",
    "            for text in all_X:\n",
    "                new_words = set(text_to_word_sequence(text))\n",
    "                all_words = all_words.union(new_words)\n",
    "            self.max_vocab = len(all_words)*1.3\n",
    "            \n",
    "            for i in range(len(X)):\n",
    "                X[i] = hashing_trick(X[i], max_vocab, hash_function='md5')\n",
    "            X_pad = sequence.pad_sequences(X, maxlen=self.max_seq_length)\n",
    "            \n",
    "            X_valid = validation_data[0]\n",
    "            \n",
    "            for i in range(len(X_valid)):\n",
    "                X_valid[i] = hashing_trick(X_valid[i], max_vocab, hash_function='md5')\n",
    "            X_valid_pad = sequence.pad_sequences(X_valid, maxlen=self.max_seq_length)\n",
    "        \n",
    "            y_valid = validation_data[1]\n",
    "            \n",
    "        else:    \n",
    "            print('Fitting Tokenizer...')\n",
    "            self.tokenizer.fit_on_texts(all_X)\n",
    "            self.max_vocab = len(self.tokenizer.word_index) + 20\n",
    "            X = X.apply(self._text_to_int_sequence)\n",
    "            X_pad = sequence.pad_sequences(X, maxlen=self.max_seq_length)\n",
    "        \n",
    "            X_valid = validation_data[0].apply(self._text_to_int_sequence)\n",
    "            X_valid_pad = sequence.pad_sequences(X_valid, maxlen=self.max_seq_length)\n",
    "        \n",
    "            y_valid = validation_data[1]\n",
    "        \n",
    "        self.model = Sequential()\n",
    "        self.model.add(Embedding(self.max_vocab, self.embedding_vector_length, input_length=self.max_seq_length))\n",
    "            \n",
    "        if self.conv_params is not None:\n",
    "            use_pooling = False\n",
    "            if self.conv_params['pool_size'] is not None:\n",
    "                use_pooling = True\n",
    "            \n",
    "            for i in range(self.conv_params['n_layers']):\n",
    "                self.model.add(Conv1D(filters=2*(i+1)*self.conv_params['filters'], \n",
    "                                      kernel_size=self.conv_params['kernel_size'], \n",
    "                                      padding='same', activation='relu'))\n",
    "                if use_pooling:\n",
    "                    self.model.add(MaxPooling1D(pool_size=self.conv_params['pool_size']))\n",
    "\n",
    "            \n",
    "        if len(self.lstm_layer_sizes) > 1:\n",
    "            for lstm_layer_size in self.lstm_layer_sizes[:-1]:\n",
    "                self.model.add(LSTM(lstm_layer_size, return_sequences=True))\n",
    "                self.model.add(Dropout(self.dropout))\n",
    "            self.model.add(LSTM(self.lstm_layer_sizes[-1]))\n",
    "        else:\n",
    "            self.model.add(LSTM(self.lstm_layer_sizes[0]))\n",
    "        if self.dropout is not None:\n",
    "            self.model.add(Dropout(self.dropout))\n",
    "        self.model.add(Dense(1, activation='sigmoid'))\n",
    "        self.model.compile(loss='binary_crossentropy', optimizer='adam', metrics=['accuracy'])\n",
    "        early_stopping = EarlyStopping(monitor='val_accuracy',\n",
    "                              min_delta=0,\n",
    "                              patience=1,\n",
    "                              verbose=2, mode='max')\n",
    "        \n",
    "        checkpoint = ModelCheckpoint(filepath='best_model',\n",
    "                                     monitor='val_accuracy',\n",
    "                                     mode='max',\n",
    "                                     save_best_only=True)\n",
    "        \n",
    "        callbacks_list = [early_stopping, checkpoint]\n",
    "        print(self.model.summary())\n",
    "        \n",
    "        print('Fitting model...')\n",
    "        self.model.fit(X_pad, y, validation_data=(X_valid_pad, y_valid), \n",
    "                  epochs=self.num_epochs, batch_size=self.batch_size, callbacks=callbacks_list)\n",
    "        \n",
    "        \n",
    "    def predict(self, X):\n",
    "        \"\"\"\n",
    "        This function is analagous to the Scikit-learn predict function used for its estimator API. It first preprocesses the text\n",
    "        data and converts it into an integer sequence.\n",
    "        X (array-like) - input text data\n",
    "        \"\"\"\n",
    "        if type(X) == pd.core.frame.DataFrame or type(X) == pd.core.series.Series:\n",
    "            X = X.apply(self._text_to_int_sequence)\n",
    "            X = sequence.pad_sequences(X, maxlen = self.max_seq_length)\n",
    "            return self.model.predict(X)\n",
    "        elif type(X) == str:\n",
    "            X = self._text_to_int_sequence(X)\n",
    "            X = sequence.pad_sequences(X, maxlen = self.max_seq_length)\n",
    "            return self.model.predict(X)\n",
    "        else:\n",
    "            X = map(X, self._text_to_int_sequence)\n",
    "            X = sequence.pad_sequences(X, maxlen = self.max_seq_length)\n",
    "            return self.model.predict(X)\n",
    "        \n",
    "    def predict_classes(self, X):\n",
    "        \"\"\"\n",
    "        This function is a wrapper over the keras predict_classes method.It first preprocesses the text data and converts it into\n",
    "        an integer sequence.\n",
    "        \"\"\"\n",
    "        \n",
    "        if type(X) == pd.core.frame.DataFrame or type(X) == pd.core.series.Series:\n",
    "            X = X.apply(self._text_to_int_sequence)\n",
    "            X = sequence.pad_sequences(X, maxlen = self.max_seq_length)\n",
    "            return self.model.predict_classes(X)\n",
    "        elif type(X) == str:\n",
    "            X = self._text_to_int_sequence(X)\n",
    "            X = sequence.pad_sequences(X, maxlen = self.max_seq_length)\n",
    "            return self.model.predict_classes(np.array(X))\n",
    "        else:\n",
    "            X = map(X, self._text_to_int_sequence)\n",
    "            X = sequence.pad_sequences(X, maxlen = self.max_seq_length)\n",
    "            return self.model.predict_classes(np.array(X))\n",
    "    \n",
    "    def predict_proba(self, X):\n",
    "          \"\"\"\n",
    "        This function is a wrapper over the keras predict_proba method.It first preprocesses the text data and converts it into\n",
    "        an integer sequence.\n",
    "        \"\"\"        \n",
    "        \n",
    "        if type(X) == pd.core.series.Series:\n",
    "            X = X.apply(self._text_to_int_sequence)\n",
    "            X = sequence.pad_sequences(X, maxlen = self.max_seq_length)\n",
    "            return self.model.predict_proba(X)\n",
    "        elif type(X) == str:\n",
    "            X = self._text_to_int_sequence(X)\n",
    "            X = sequence.pad_sequence(X, maxlen = self.max_seq_length)\n",
    "            return self.model.predict_proba(np.array(X))\n",
    "        else:\n",
    "            X = map(X, self._text_to_word_sequence)\n",
    "            X = sequence.pad_sequences(X, maxlen = self.max_seq_length)\n",
    "            return self.model.predict_proba(np.array(X))\n",
    "    \n",
    "    def load_model(self, file_path):\n",
    "        \"This function is a wrapper over the Keras load_model function\"\n",
    "        \n",
    "        self.model = load_model(file_path)\n",
    "    \n",
    "    def score(self, X, y):\n",
    "        \"This function is a wrapper over the Scikit-learn score function for its estimator API.\"\n",
    "        \n",
    "        pred = self.predict(X)\n",
    "        return accuracy_score(y, pred)"
   ]
  }
 ],
 "metadata": {
  "kernelspec": {
   "display_name": "Python 3",
   "language": "python",
   "name": "python3"
  },
  "language_info": {
   "codemirror_mode": {
    "name": "ipython",
    "version": 3
   },
   "file_extension": ".py",
   "mimetype": "text/x-python",
   "name": "python",
   "nbconvert_exporter": "python",
   "pygments_lexer": "ipython3",
   "version": "3.8.5"
  }
 },
 "nbformat": 4,
 "nbformat_minor": 4
}
